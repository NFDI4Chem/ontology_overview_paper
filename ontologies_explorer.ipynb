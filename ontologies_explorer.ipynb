{
 "cells": [
  {
   "source": [
    "# Displays the Network of borrowed terms for Chemistry ontologies \n",
    "* Ontologies listed in listed in [ontologies_details.yml](ontologies_details.yml)\n",
    "* Queries made to OLS API from <https://terminology.nfdi4chem.de/> & <http://www.ebi.ac.uk/ols>\n",
    "   * OLS API documentation <https://www.ebi.ac.uk/ols/docs/api>\n",
    "* Uses [pyvis](https://pyvis.readthedocs.io/en/latest/index.html) Visualization Library"
   ],
   "cell_type": "markdown",
   "metadata": {
    "tags": [
     "outputPrepend"
    ]
   }
  },
  {
   "cell_type": "code",
   "execution_count": null,
   "metadata": {
    "tags": []
   },
   "outputs": [],
   "source": [
    "import requests\n",
    "import yaml\n",
    "from time import sleep\n",
    "from pprint import pprint\n",
    "\n",
    "############\n",
    "# Gathers all terms and borrowed Ontologies employed by Chemistry ontologies, listed in ontologies_details.yml\n",
    "# var chem_ontos_terms - is dictionary holding ontology terms organized by ontology id/prefix\n",
    "# var all_ontos - is dictionary where holding info on ontologies employed by chemestry ontologies, organized by ontology id/prefix\n",
    "############\n",
    "\n",
    "'''\n",
    "chem_ontos_terms structure\n",
    "\n",
    "'RXNO': { \n",
    "    'RXNO:0000563': {'id': 'RXNO:0000563',\n",
    "                    'iri': 'http://purl.obolibrary.org/obo/RXNO_0000563',\n",
    "                    'label': 'obsolete: chloro Heck-type reaction/Sandmeyer '\n",
    "                            'fluorination',\n",
    "                    'onto_prefix': 'RXNO'},\n",
    "    },\n",
    "'CHIRO': ...\n",
    "'''\n",
    "\n",
    "\n",
    "def yaml2dict(path):\n",
    "    with open(path, 'r') as yaml_f:\n",
    "        yaml_content = yaml_f.read()\n",
    "        yaml_dict = yaml.safe_load(yaml_content)\n",
    "    return yaml_dict\n",
    "\n",
    "def get_all_ontology_terms(api_url, size, page, terms):\n",
    "    '''\n",
    "    return dict with all terms of an ontology, \n",
    "    each entry with keys: iri, id, label, onto_prefix\n",
    "    '''\n",
    "    api_url_w_params = f'{api_url}?page={page}&size={size}'\n",
    "    # print(api_url_w_params)\n",
    "    try:\n",
    "        request = requests.get(api_url_w_params)\n",
    "    except requests.exceptions.Timeout:\n",
    "        sleep(1)\n",
    "        request = requests.get(api_url_w_params)\n",
    "    response = request.json()\n",
    "    page_numb = response['page']['number']\n",
    "    page_total  = response['page']['totalPages']\n",
    "    # print(f'Current page:{page_numb}  Total pages:{page_total}')\n",
    "    if '_embedded' in response.keys():\n",
    "        terms.update({term['obo_id']: {'iri': term['iri'], 'id': term['obo_id'], 'label': term['label'], 'onto_prefix': term['obo_id'].split(':')[0]} for term in response['_embedded']['terms'] if term['obo_id']})\n",
    "        get_all_ontology_terms(api_url=api_url, size=size, page=page+1, terms=terms)\n",
    "    return terms\n",
    "\n",
    "def get_onto_info(onto_prefix):\n",
    "    onto_api_url =  f'{tib_ols_api}ontologies/{onto_prefix}'\n",
    "    onto_request = requests.get(onto_api_url)\n",
    "    if onto_request.status_code == 404:\n",
    "        onto_api_url =  f'{ebispot_ols_api}ontologies/{onto_prefix}'\n",
    "        onto_request = requests.get(onto_api_url)\n",
    "        if onto_request.status_code == 404:\n",
    "            # print(f'No ontology info in OLS for {onto_prefix}')\n",
    "            onto_response = {}     \n",
    "        else:\n",
    "            # print(f'getting {onto_prefix} from EBISPOT OLS')\n",
    "            onto_response = onto_request.json() \n",
    "    else:\n",
    "        # print(f'getting {onto_prefix} from TIB OLS')\n",
    "        onto_response = onto_request.json() \n",
    "    return onto_response\n",
    "\n",
    "\n",
    "tib_ols_api = 'https://service.tib.eu/ts4tib/api/'\n",
    "ebispot_ols_api = 'http://www.ebi.ac.uk/ols/api/'\n",
    "# all_ontos = {} \n",
    "chem_ontos = yaml2dict(path='ontologies_details.yml')\n",
    "chem_ontos_ids = [onto['id'].upper() for onto in chem_ontos]\n",
    "chem_ontos_terms = {}\n",
    "# for onto in ontos_used_in_ontos:\n",
    "#     print(onto)\n",
    "#     onto_response = get_onto_info(onto_prefix=onto)\n",
    "#     pprint(onto_response)\n",
    "\n",
    "for onto in chem_ontos:\n",
    "    print(f\"Ontology: {onto['id']}\")\n",
    "    all_onto_terms = get_all_ontology_terms(api_url=f'{tib_ols_api}ontologies/{onto[\"id\"]}/terms', size=100, page=0, terms={})\n",
    "    print(f\"Ontology: {onto['id']} has {len(all_onto_terms)} terms\")\n",
    "    chem_ontos_terms[onto['id'].upper()] = all_onto_terms\n",
    "    # pprint(all_onto_terms)\n",
    "\n",
    "    ontos_used_in_ontos = set([v['onto_prefix'] for v in all_onto_terms.values()])\n",
    "    print(f\"Ontology: {onto['id']} uses the {', '.join(ontos_used_in_ontos)} ontologies\")\n",
    "\n",
    "    # new_ontos_used_by_onto = {onto: get_onto_info(onto_prefix=onto) for onto in ontos_used_in_ontos if onto not in all_ontos.keys()}  # get info on ontology\n",
    "    # all_ontos.update(new_ontos_used_by_onto)  # & append to var all_ontos\n",
    "    # print(f\"All ontologies: {all_ontos.keys()}\")\n",
    "    print(f'\\n{\"*\"*20}\\n')\n",
    "    # pprint(all_ontos['PR'])\n",
    "\n",
    "# pprint(chem_ontos_terms) # all terms for all chem ontologies listed in ontologies_details.yml\n",
    "print(chem_ontos_terms.keys())\n",
    "\n",
    "# enter missing chem_ontos instances into all_ontos\n",
    "# for chem_onto in chem_ontos_ids: \n",
    "#     if chem_onto not in all_ontos.keys():\n",
    "#         print(chem_onto, \"missing\")\n",
    "#         new_entry = {chem_onto: {}}\n",
    "#         all_ontos.update(new_entry)\n"
   ]
  },
  {
   "cell_type": "code",
   "execution_count": 9,
   "metadata": {},
   "outputs": [],
   "source": [
    "from pyvis.network import Network\n",
    "\n",
    "def draw_onto_relations(net, target_onto, options, width, height):\n",
    "    # chem_ontos_terms => onto dict\n",
    "    net.width = width\n",
    "    net.height = height\n",
    "    net.add_node(target_onto, label=target_onto, color=\"#6BFFF5\", borderWidth=0, shape=\"circle\", size=1500) # src onto\n",
    "    for onto_term_k, dest_onto_term in chem_ontos_terms[target_onto].items():\n",
    "        # add ontologies nodes\n",
    "        onto =  dest_onto_term['onto_prefix']\n",
    "        color='#ffff00'\n",
    "        net.add_node(onto, label=onto,  color=color, borderWidth=0, shape=\"circle\", size=500) # dest onto\n",
    "        if dest_onto_term['onto_prefix'] != target_onto:\n",
    "            net.add_edge(target_onto, dest_onto_term['onto_prefix'], color='#ACACAC', title=f\"{dest_onto_term['id']} - {dest_onto_term['label']}\")\n",
    "    net.set_options(options)\n",
    "    return net\n",
    "    \n",
    "graph_opts = '''\n",
    "    var options = {\n",
    "    \"interaction\": {\n",
    "        \"navigationButtons\": true\n",
    "    },\n",
    "    \"physics\": {\n",
    "        \"repulsion\": {\n",
    "        \"centralGravity\": 2.9,\n",
    "        \"springLength\": 140,\n",
    "        \"nodeDistance\": 255,\n",
    "        \"damping\": 0.08\n",
    "        },\n",
    "        \"maxVelocity\": 3,\n",
    "        \"minVelocity\": 0.13,\n",
    "        \"solver\": \"repulsion\",\n",
    "        \"timestep\": 0.48\n",
    "    },\n",
    "    \"nodes\": {\n",
    "        \"font\": {\n",
    "        \"size\": 16\n",
    "        }\n",
    "    },\n",
    "    \"edges\": {\n",
    "        \"arrows\": {\n",
    "        \"to\": {\n",
    "            \"enabled\": true,\n",
    "            \"scaleFactor\": 0\n",
    "        }\n",
    "    }\n",
    "  }\n",
    "}\n",
    "'''\n"
   ]
  },
  {
   "cell_type": "code",
   "execution_count": 15,
   "metadata": {
    "tags": []
   },
   "outputs": [
    {
     "output_type": "execute_result",
     "data": {
      "text/plain": [
       "<IPython.lib.display.IFrame at 0x7fa632b68b20>"
      ],
      "text/html": "\n        <iframe\n            width=\"1500px\"\n            height=\"750px\"\n            src=\"RXNO.html\"\n            frameborder=\"0\"\n            allowfullscreen\n        ></iframe>\n        "
     },
     "metadata": {},
     "execution_count": 15
    }
   ],
   "source": [
    "ontology = chem_ontos[0]['id']\n",
    "net = draw_onto_relations(\n",
    "    net=Network(directed=True, bgcolor='#0A0A0A', notebook=True, heading=f'{ontology} Borrowed Terms'), \n",
    "    target_onto=ontology, \n",
    "    options=graph_opts,\n",
    "    width='1500px',\n",
    "    height='750px')\n",
    "net.show(f'{ontology}.html')\n",
    "# net.save_graph(f'{target_onto}.html')\n",
    "\n"
   ]
  },
  {
   "cell_type": "code",
   "execution_count": 19,
   "metadata": {
    "tags": []
   },
   "outputs": [
    {
     "output_type": "execute_result",
     "data": {
      "text/plain": [
       "<IPython.lib.display.IFrame at 0x7fa63d4c59d0>"
      ],
      "text/html": "\n        <iframe\n            width=\"1500px\"\n            height=\"750px\"\n            src=\"MOP.html\"\n            frameborder=\"0\"\n            allowfullscreen\n        ></iframe>\n        "
     },
     "metadata": {},
     "execution_count": 19
    }
   ],
   "source": [
    "ontology = chem_ontos[1]['id']\n",
    "net = draw_onto_relations(\n",
    "    net=Network(directed=True, bgcolor='#0A0A0A', notebook=True, heading=f'{ontology} Borrowed Terms'), \n",
    "    target_onto=ontology, \n",
    "    options=graph_opts,\n",
    "    width='1500px',\n",
    "    height='750px')\n",
    "net.show(f'{ontology}.html')"
   ]
  },
  {
   "cell_type": "code",
   "execution_count": 20,
   "metadata": {},
   "outputs": [
    {
     "output_type": "execute_result",
     "data": {
      "text/plain": [
       "<IPython.lib.display.IFrame at 0x7fa63ccfab50>"
      ],
      "text/html": "\n        <iframe\n            width=\"1500px\"\n            height=\"750px\"\n            src=\"CHEMINF.html\"\n            frameborder=\"0\"\n            allowfullscreen\n        ></iframe>\n        "
     },
     "metadata": {},
     "execution_count": 20
    }
   ],
   "source": [
    "ontology = chem_ontos[2]['id']\n",
    "net = draw_onto_relations(\n",
    "    net=Network(directed=True, bgcolor='#0A0A0A', notebook=True, heading=f'{ontology} Borrowed Terms'), \n",
    "    target_onto=ontology, \n",
    "    options=graph_opts,\n",
    "    width='1500px',\n",
    "    height='750px')\n",
    "net.show(f'{ontology}.html')"
   ]
  },
  {
   "cell_type": "code",
   "execution_count": 21,
   "metadata": {},
   "outputs": [
    {
     "output_type": "execute_result",
     "data": {
      "text/plain": [
       "<IPython.lib.display.IFrame at 0x7fa632b68ee0>"
      ],
      "text/html": "\n        <iframe\n            width=\"1500px\"\n            height=\"750px\"\n            src=\"CHMO.html\"\n            frameborder=\"0\"\n            allowfullscreen\n        ></iframe>\n        "
     },
     "metadata": {},
     "execution_count": 21
    }
   ],
   "source": [
    "ontology = chem_ontos[3]['id']\n",
    "net = draw_onto_relations(\n",
    "    net=Network(directed=True, bgcolor='#0A0A0A', notebook=True, heading=f'{ontology} Borrowed Terms'), \n",
    "    target_onto=ontology, \n",
    "    options=graph_opts,\n",
    "    width='1500px',\n",
    "    height='750px')\n",
    "net.show(f'{ontology}.html')"
   ]
  },
  {
   "cell_type": "code",
   "execution_count": 22,
   "metadata": {},
   "outputs": [
    {
     "output_type": "execute_result",
     "data": {
      "text/plain": [
       "<IPython.lib.display.IFrame at 0x7fa63cd1c730>"
      ],
      "text/html": "\n        <iframe\n            width=\"1500px\"\n            height=\"750px\"\n            src=\"CHIRO.html\"\n            frameborder=\"0\"\n            allowfullscreen\n        ></iframe>\n        "
     },
     "metadata": {},
     "execution_count": 22
    }
   ],
   "source": [
    "ontology = chem_ontos[4]['id']\n",
    "net = draw_onto_relations(\n",
    "    net=Network(directed=True, bgcolor='#0A0A0A', notebook=True, heading=f'{ontology} Borrowed Terms'), \n",
    "    target_onto=ontology, \n",
    "    options=graph_opts,\n",
    "    width='1500px',\n",
    "    height='750px')\n",
    "net.show(f'{ontology}.html')"
   ]
  },
  {
   "cell_type": "code",
   "execution_count": null,
   "metadata": {},
   "outputs": [],
   "source": [
    "# unuse functions\n",
    "'''\n",
    "def get_term_info_from_src_onto(iri):\n",
    "    term_page =  f'{tib_ols_api}terms/findByIdAndIsDefiningOntology?iri={iri}'\n",
    "    try:\n",
    "        termrequest = requests.get(term_page)\n",
    "    except requests.exceptions.Timeout:\n",
    "        sleep(1)\n",
    "        termrequest = requests.get(term_page)\n",
    "\n",
    "    termresponse = termrequest.json()\n",
    "    if termresponse['page']['totalElements'] == 0:\n",
    "        # QUERY ANOTHER N ANOTHER OLS INSTANCE if ontology not in TIB OLS\n",
    "        term_page =  f'{ebispot_ols_api}terms/findByIdAndIsDefiningOntology?iri={iri}'\n",
    "        termrequest = requests.get(term_page)\n",
    "        termresponse = termrequest.json()    \n",
    "    print(term_page)\n",
    "    # pprint(termresponse)\n",
    "    if '_embedded' in termresponse.keys():\n",
    "        term = termresponse['_embedded']['terms'][0]\n",
    "        term_info = {\n",
    "            # 'api': term_api_url,\n",
    "            'term_iri': iri,\n",
    "            # 'label': apiresponse['label'],\n",
    "            # '_id': apiresponse['annotation']['id'][0] if 'id' in apiresponse['annotation'] else None,\n",
    "            # 'obo_id': apiresponse['obo_id']['id'] if type(apiresponse['obo_id']) is dict and 'id' in apiresponse['obo_id'].keys() else apiresponse['obo_id'],\n",
    "            'onto_iri': term['ontology_iri'],\n",
    "            'onto_prefix': term['ontology_prefix'],\n",
    "            'onto_name': term['ontology_name'],\n",
    "            }\n",
    "        return term_info\n",
    "    else:\n",
    "        return None\n",
    "\n",
    "\n",
    "\n",
    "def terms_hierarchy(api_url):\n",
    "    # calls OLS API on ontology terms \n",
    "    # and requests the terms children, recursively \n",
    "    apirequest = requests.get(api_url)\n",
    "    apiresponse = apirequest.json() \n",
    "    if '_embedded' in apiresponse.keys():\n",
    "        terms = apiresponse['_embedded']['terms']\n",
    "        for term in terms:\n",
    "            # pprint(term)\n",
    "            term_iri = term['iri']\n",
    "            print(f'\\nterm_iri: {term_iri}')\n",
    "            # ols_term_url = term['_links']['self']['href']\n",
    "            # print(ols_term_url)\n",
    "            term_info =get_term_info_from_src_onto(iri=term_iri)\n",
    "\n",
    "            pprint(term_info)\n",
    "            # if 'children' in term['_links'].keys():\n",
    "            #     api_children_url = term['_links']['children']['href']\n",
    "            #     terms_hierarchy(api_url=term['_links']['children']['href'])\n",
    "'''"
   ]
  }
 ],
 "metadata": {
  "kernelspec": {
   "name": "pythonjvsc74a57bd058c872b6422536afb6c3016838c022361719da86c2b48d24e7dd44a981dccc3b",
   "display_name": "Python 3.8.6 64-bit ('venv': venv)"
  },
  "language_info": {
   "codemirror_mode": {
    "name": "ipython",
    "version": 3
   },
   "file_extension": ".py",
   "mimetype": "text/x-python",
   "name": "python",
   "nbconvert_exporter": "python",
   "pygments_lexer": "ipython3",
   "version": "3.8.6"
  },
  "metadata": {
   "interpreter": {
    "hash": "58c872b6422536afb6c3016838c022361719da86c2b48d24e7dd44a981dccc3b"
   }
  }
 },
 "nbformat": 4,
 "nbformat_minor": 5
}