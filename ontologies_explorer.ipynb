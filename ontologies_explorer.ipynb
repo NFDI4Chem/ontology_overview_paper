{
 "cells": [
  {
   "cell_type": "code",
   "execution_count": 29,
   "id": "ef686069",
   "metadata": {},
   "outputs": [
    {
     "name": "stdout",
     "output_type": "stream",
     "text": [
      "rxno\n",
      "[{'class': rdflib.term.URIRef('http://purl.obolibrary.org/obo/RXNO_0000167')}, {'class': rdflib.term.URIRef('http://purl.obolibrary.org/obo/CHEBI_48420')}, {'class': rdflib.term.URIRef('http://purl.obolibrary.org/obo/RXNO_0000539')}, {'class': rdflib.term.URIRef('http://purl.obolibrary.org/obo/RXNO_0000026')}, {'class': rdflib.term.URIRef('http://purl.obolibrary.org/obo/RXNO_0000006')}]\n",
      "mop\n",
      "[{'class': rdflib.term.URIRef('http://purl.obolibrary.org/obo/MOP_0000450')}, {'class': rdflib.term.URIRef('http://purl.obolibrary.org/obo/MOP_0002406')}, {'class': rdflib.term.URIRef('http://purl.obolibrary.org/obo/MOP_0000401')}, {'class': rdflib.term.URIRef('http://purl.obolibrary.org/obo/MOP_0000561')}, {'class': rdflib.term.URIRef('http://purl.obolibrary.org/obo/MOP_0002166')}]\n",
      "cheminf\n",
      "[{'class': rdflib.term.URIRef('http://semanticscience.org/resource/CHEMINF_000384')}, {'class': rdflib.term.URIRef('http://semanticscience.org/resource/CHEMINF_000266')}, {'class': rdflib.term.URIRef('http://semanticscience.org/resource/CHEMINF_001512')}, {'class': rdflib.term.URIRef('http://semanticscience.org/resource/CHEMINF_000394')}, {'class': rdflib.term.URIRef('http://semanticscience.org/resource/CHEMINF_001502')}]\n",
      "chmo\n",
      "[{'class': rdflib.term.URIRef('http://purl.obolibrary.org/obo/CHMO_0001537')}, {'class': rdflib.term.URIRef('http://purl.obolibrary.org/obo/CHMO_0001354')}, {'class': rdflib.term.URIRef('http://purl.obolibrary.org/obo/CHMO_0002074')}, {'class': rdflib.term.URIRef('http://purl.obolibrary.org/obo/CHMO_0000742')}, {'class': rdflib.term.URIRef('http://purl.obolibrary.org/obo/CHMO_0000390')}]\n",
      "chiro\n",
      "[{'class': rdflib.term.URIRef('http://purl.obolibrary.org/obo/PR_000024130')}, {'class': rdflib.term.URIRef('http://purl.obolibrary.org/obo/NCBITaxon_2')}, {'class': rdflib.term.URIRef('http://purl.obolibrary.org/obo/PR_000023089')}, {'class': rdflib.term.URIRef('http://purl.obolibrary.org/obo/PR_000001423')}, {'class': rdflib.term.URIRef('http://purl.obolibrary.org/GO_0016088')}]\n"
     ]
    }
   ],
   "source": [
    "import yaml\n",
    "import rdflib\n",
    "from pprint import pprint\n",
    "def yaml2dict(path):\n",
    "    with open(path, 'r') as yaml_f:\n",
    "        yaml_content = yaml_f.read()\n",
    "        yaml_dict = yaml.safe_load(yaml_content)\n",
    "    return yaml_dict\n",
    "\n",
    "chem_ontos = yaml2dict(path='ontologies_details.yml')\n",
    "\n",
    "q_all_classes = \"\"\"\n",
    "PREFIX rdf: <http://www.w3.org/1999/02/22-rdf-syntax-ns#>\n",
    "PREFIX rdfs: <http://www.w3.org/2000/01/rdf-schema#>\n",
    "PREFIX owl: <http://www.w3.org/2002/07/owl#>\n",
    "PREFIX rxno: <http://purl.obolibrary.org/obo/RXNO_>\n",
    "SELECT DISTINCT ?class\n",
    "WHERE {\n",
    "    ?class rdf:type owl:Class.\n",
    "    FILTER (!isBlank(?class)).\n",
    "     }\n",
    "LIMIT 5\n",
    "\"\"\"\n",
    "\n",
    "def sparql_query(purl, query):\n",
    "    graph = rdflib.Graph()\n",
    "    graph.parse(purl, format='xml')\n",
    "    qres = graph.query(query, initNs = { \"rxno\": 'http://purl.obolibrary.org/obo/RXNO_' })\n",
    "    for printout in qres:\n",
    "        printout_dict = printout.asdict() \n",
    "#         pprint(printout_dict)\n",
    "        yield printout_dict\n",
    "\n",
    "    \n",
    "\n",
    "for onto in chem_ontos:\n",
    "    onto_all_classes = list(sparql_query(purl=onto['purl'], query=q_all_classes))\n",
    "    print(onto['id'])\n",
    "    print(onto_all_classes)\n",
    "#    one = onto_all_classes[0]\n",
    "\n",
    "# how to handle prefixes?RT"
   ]
  },
  {
   "cell_type": "code",
   "execution_count": 24,
   "id": "b7fb181a",
   "metadata": {},
   "outputs": [
    {
     "name": "stdout",
     "output_type": "stream",
     "text": [
      "<class 'rdflib.term.URIRef'>\n"
     ]
    }
   ],
   "source": []
  },
  {
   "cell_type": "code",
   "execution_count": null,
   "id": "ff9aec88",
   "metadata": {},
   "outputs": [],
   "source": []
  }
 ],
 "metadata": {
  "kernelspec": {
   "display_name": "Python 3 (ipykernel)",
   "language": "python",
   "name": "python3"
  },
  "language_info": {
   "codemirror_mode": {
    "name": "ipython",
    "version": 3
   },
   "file_extension": ".py",
   "mimetype": "text/x-python",
   "name": "python",
   "nbconvert_exporter": "python",
   "pygments_lexer": "ipython3",
   "version": "3.8.6"
  }
 },
 "nbformat": 4,
 "nbformat_minor": 5
}
