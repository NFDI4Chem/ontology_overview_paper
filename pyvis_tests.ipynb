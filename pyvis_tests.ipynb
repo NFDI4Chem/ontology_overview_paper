{
 "metadata": {
  "language_info": {
   "codemirror_mode": {
    "name": "ipython",
    "version": 3
   },
   "file_extension": ".py",
   "mimetype": "text/x-python",
   "name": "python",
   "nbconvert_exporter": "python",
   "pygments_lexer": "ipython3",
   "version": "3.8.6"
  },
  "orig_nbformat": 2,
  "kernelspec": {
   "name": "pythonjvsc74a57bd058c872b6422536afb6c3016838c022361719da86c2b48d24e7dd44a981dccc3b",
   "display_name": "Python 3.8.6 64-bit ('venv': venv)"
  },
  "metadata": {
   "interpreter": {
    "hash": "58c872b6422536afb6c3016838c022361719da86c2b48d24e7dd44a981dccc3b"
   }
  }
 },
 "nbformat": 4,
 "nbformat_minor": 2,
 "cells": [
  {
   "cell_type": "code",
   "execution_count": 80,
   "metadata": {},
   "outputs": [
    {
     "output_type": "execute_result",
     "data": {
      "text/plain": [
       "<IPython.lib.display.IFrame at 0x7f70317d7730>"
      ],
      "text/html": "\n        <iframe\n            width=\"500px\"\n            height=\"500px\"\n            src=\"mygraph.html\"\n            frameborder=\"0\"\n            allowfullscreen\n        ></iframe>\n        "
     },
     "metadata": {},
     "execution_count": 80
    }
   ],
   "source": [
    "from pyvis.network import Network\n",
    "net = Network(notebook=True, directed=True)\n",
    "\n",
    "net.add_node(\"a\", label='NODE A', title=\"show on select\", color='#0004ff', value=600, borderWidth=0, shape=\"ellipse\")\n",
    "net.add_node(\"b\", label='NODE B', title=\"show on select\", color='#ff0000', value=600, borderWidth=0, shape=\"ellipse\")\n",
    "net.add_node(\"c\", label='NODE C', title=\"show on select\",  color='#ffff00', value=600, borderWidth=0, shape=\"ellipse\")\n",
    "net.add_edge(\"a\",\"b\", label=\"fii\", color='#ff0000', title=\"show on select\")\n",
    "net.add_edge(\"a\",\"c\", label=\"foo\", color='#ff0000', title=\"show on select\")\n",
    "net.add_edge(\"a\",\"c\", label=\"bar\", color='#ff0000', title=\"show on select\")\n",
    "net.add_edge(\"a\",\"c\", label=\"par\", color='#ff0000', title=\"show on select\")\n",
    "\n",
    "net.repulsion(node_distance=200, central_gravity=0.2, spring_length=200, spring_strength=0.05, damping=0.09)\n",
    "net.set_edge_smooth('dynamic')  # required for multiple edges to 1 node \n",
    "net.show('mygraph.html')"
   ]
  }
 ]
}